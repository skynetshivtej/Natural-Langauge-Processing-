{
 "cells": [
  {
   "cell_type": "code",
   "execution_count": 6,
   "metadata": {},
   "outputs": [
    {
     "name": "stdout",
     "output_type": "stream",
     "text": [
      "[('guys jungle number', 8.5), ('transform sigma notation', 8.0), ('equals dividing crossed', 7.75), ('form equation line', 7.4375), ('add regression line', 7.4375), ('squared average xy', 7.3076923076923075), ('equal put form', 7.131578947368421), ('required calculate slope', 7.066666666666667), ('form calculate average', 6.9), ('xy bar divided', 6.770089285714286), ('equation line equal', 6.569078947368421), ('variable point line', 6.4375), ('squared bar divided', 6.077781593406593), ('line respect equal', 6.069078947368421), ('bar derivative constant', 5.817708333333334), ('intercept set equal', 5.631578947368421), ('squared bar bar', 5.2764423076923075), ('bar times term', 5.067708333333333), ('sigma notation', 5.0), ('bar times bar', 4.802083333333333), ('form expression', 4.5), ('good form', 4.5), ('regression line', 4.4375), ('calculate intercept', 4.4), ('times constant', 4.166666666666667), ('guys slope', 4.166666666666667), ('constant term', 4.083333333333334), ('calculate slope', 4.066666666666666), ('squared equals', 4.0576923076923075), ('dick constants', 4.0), ('partial derivatives', 4.0), ('part system', 4.0), ('partial derivative', 4.0), ('suppose minimized', 4.0), ('set values', 4.0), ('effectively change', 4.0), ('based averages', 4.0), ('means means', 4.0), ('helpful respect', 4.0), ('understand formulas', 4.0), ('bye bye', 4.0), ('squared bar', 3.7920673076923075), ('bar squared', 3.7920673076923075), ('bar divided', 3.7700892857142856), ('set equal', 3.6315789473684212), ('point zumar', 3.5), ('bar solving', 3.484375), ('delta line', 3.4375), ('point line', 3.4375), ('equal write', 3.1315789473684212), ('bar equal', 3.1159539473684212), ('long video', 3.0), ('hope video', 3.0), ('divided', 2.2857142857142856), ('derivative', 2.0), ('set', 2.0), ('intercept', 2.0), ('average', 2.0), ('line', 1.9375), ('times', 1.8333333333333333), ('equals', 1.75), ('term', 1.75), ('slope', 1.6666666666666667), ('equal', 1.631578947368421), ('delta', 1.5), ('write', 1.5), ('point', 1.5), ('hope', 1.5), ('video', 1.5), ('helpful', 1.5), ('long', 1.5), ('bar', 1.484375), ('differentiate', 1.0), ('side', 1.0), ('divide', 1.0), ('mx', 1.0), ('substitute', 1.0), ('lines', 1.0), ('solve', 1.0), ('solved', 1.0), ('observations', 1.0), ('call', 1.0), ('component', 1.0), ('minimizing', 1.0), ('points', 1.0), ('define', 1.0), ('pretty', 1.0), ('move', 1.0), ('complicated', 1.0), ('fit', 1.0)]\n"
     ]
    }
   ],
   "source": [
    "import operator\n",
    "import RAKE\n",
    "\n",
    "rake_object = RAKE.RAKE.Rake(\"googlestopwords.txt\")\n",
    "\n",
    "with open('tfidf3.txt', 'r') as myfile:\n",
    "    judgment=myfile.read().replace('\\n', '.')\n",
    "from nltk.corpus import stopwords\n",
    "from nltk.tokenize import RegexpTokenizer\n",
    "import re \n",
    "tokenizer = RegexpTokenizer(r'\\w+')\n",
    "letters_only = re.sub(\"[^a-zA-Z]\",\" \",str(judgment))\n",
    "bowA = tokenizer.tokenize(letters_only)\n",
    "stop_words=set(stopwords.words(\"english\"))\n",
    "filter_corpus = [w for w in bowA if not w in stop_words]\n",
    "\n",
    "import string\n",
    "kkk=\"\".join([\" \"+i if not i.startswith(\"'\") and i not in string.punctuation else i for i in filter_corpus]).strip()\n",
    "keywords = rake_object.run(kkk) \n",
    "print (keywords)\n",
    "\n",
    "\n"
   ]
  },
  {
   "cell_type": "code",
   "execution_count": 2,
   "metadata": {},
   "outputs": [
    {
     "data": {
      "text/plain": [
       "RAKE.RAKE.Rake"
      ]
     },
     "execution_count": 2,
     "metadata": {},
     "output_type": "execute_result"
    }
   ],
   "source": [
    "type(rake_object)"
   ]
  },
  {
   "cell_type": "code",
   "execution_count": 7,
   "metadata": {},
   "outputs": [],
   "source": [
    "np.savetxt(\"Labled3.csv\", keywords, delimiter=\",\", fmt='%s')"
   ]
  },
  {
   "cell_type": "code",
   "execution_count": 4,
   "metadata": {},
   "outputs": [],
   "source": [
    "from sklearn.naive_bayes import MultinomialNB\n",
    "import pandas as pd\n",
    "import numpy as np"
   ]
  },
  {
   "cell_type": "code",
   "execution_count": 33,
   "metadata": {},
   "outputs": [],
   "source": [
    "data = pd.read_csv('Labeled.csv').values"
   ]
  },
  {
   "cell_type": "code",
   "execution_count": 1,
   "metadata": {},
   "outputs": [
    {
     "name": "stderr",
     "output_type": "stream",
     "text": [
      "C:\\ProgramData\\Anaconda2\\envs\\py36\\lib\\site-packages\\pydub\\utils.py:165: RuntimeWarning: Couldn't find ffmpeg or avconv - defaulting to ffmpeg, but may not work\n",
      "  warn(\"Couldn't find ffmpeg or avconv - defaulting to ffmpeg, but may not work\", RuntimeWarning)\n"
     ]
    }
   ],
   "source": [
    "import speech_recognition as sr\n",
    "from os import path\n",
    "from pydub import AudioSegment\n",
    "import sys\n"
   ]
  },
  {
   "cell_type": "code",
   "execution_count": 2,
   "metadata": {},
   "outputs": [],
   "source": [
    "sys.path.append('C:/Users/SHIVTEJ/PyProject/RAKE')\n"
   ]
  },
  {
   "cell_type": "code",
   "execution_count": 3,
   "metadata": {},
   "outputs": [],
   "source": [
    "AudioSegment.ffmpeg = 'C:\\\\ProgramData\\\\Anaconda2\\\\envs\\\\py36\\\\Lib\\\\site-packages\\\\ffmpeg'"
   ]
  },
  {
   "cell_type": "code",
   "execution_count": 4,
   "metadata": {},
   "outputs": [],
   "source": [
    "path = 'C:/Users/SHIVTEJ/PyProject/RAKE'"
   ]
  },
  {
   "cell_type": "code",
   "execution_count": 5,
   "metadata": {},
   "outputs": [],
   "source": [
    "import speech_recognition as sr"
   ]
  },
  {
   "cell_type": "code",
   "execution_count": 6,
   "metadata": {},
   "outputs": [
    {
     "data": {
      "text/plain": [
       "'3.8.1'"
      ]
     },
     "execution_count": 6,
     "metadata": {},
     "output_type": "execute_result"
    }
   ],
   "source": [
    "sr.__version__"
   ]
  },
  {
   "cell_type": "code",
   "execution_count": 7,
   "metadata": {},
   "outputs": [],
   "source": [
    "r = sr.Recognizer()"
   ]
  },
  {
   "cell_type": "code",
   "execution_count": 8,
   "metadata": {},
   "outputs": [
    {
     "ename": "NameError",
     "evalue": "name 'audio' is not defined",
     "output_type": "error",
     "traceback": [
      "\u001b[1;31m---------------------------------------------------------------------------\u001b[0m",
      "\u001b[1;31mNameError\u001b[0m                                 Traceback (most recent call last)",
      "\u001b[1;32m<ipython-input-8-59c33ef07a2e>\u001b[0m in \u001b[0;36m<module>\u001b[1;34m\u001b[0m\n\u001b[1;32m----> 1\u001b[1;33m \u001b[0mr\u001b[0m\u001b[1;33m.\u001b[0m\u001b[0mrecognize_google\u001b[0m\u001b[1;33m(\u001b[0m\u001b[0maudio\u001b[0m\u001b[1;33m)\u001b[0m\u001b[1;33m\u001b[0m\u001b[0m\n\u001b[0m",
      "\u001b[1;31mNameError\u001b[0m: name 'audio' is not defined"
     ]
    }
   ],
   "source": [
    "r.recognize_google(audio)"
   ]
  },
  {
   "cell_type": "code",
   "execution_count": 9,
   "metadata": {},
   "outputs": [],
   "source": [
    "harvard = sr.AudioFile('male.wav')"
   ]
  },
  {
   "cell_type": "code",
   "execution_count": 10,
   "metadata": {},
   "outputs": [],
   "source": [
    "with harvard as source:\n",
    "    audio = r.record(source)"
   ]
  },
  {
   "cell_type": "code",
   "execution_count": 11,
   "metadata": {},
   "outputs": [
    {
     "data": {
      "text/plain": [
       "speech_recognition.AudioData"
      ]
     },
     "execution_count": 11,
     "metadata": {},
     "output_type": "execute_result"
    }
   ],
   "source": [
    "type(audio)"
   ]
  },
  {
   "cell_type": "code",
   "execution_count": 12,
   "metadata": {},
   "outputs": [
    {
     "data": {
      "text/plain": [
       "\"what if somebody decides to break it be careful that you keep adequate coverage but look for places to save money baby it's taking longer to get things squared away then the Bankers expected I ring the wife wants company my when hurt excited retirement and counting boost is helpful but inadequate new self deceiving rags or heard latest on the two naked bone what a discussion can ensue when the title of this type of song is in question there is no dying or waxing or guessing need a diaper wait maybe personalise down back Barclays leather horse work on a flat surface and smooth out the simplest kind of separate system uses a single self-contained Unit 2 the Old Shop had it still holds a good mechanic is usually a bad but no figures would go higher in later years summit beautiful chairs cabinets chest. How's is it set\""
      ]
     },
     "execution_count": 12,
     "metadata": {},
     "output_type": "execute_result"
    }
   ],
   "source": [
    "r.recognize_google(audio)"
   ]
  },
  {
   "cell_type": "code",
   "execution_count": null,
   "metadata": {},
   "outputs": [],
   "source": []
  }
 ],
 "metadata": {
  "kernelspec": {
   "display_name": "Python 3",
   "language": "python",
   "name": "python3"
  },
  "language_info": {
   "codemirror_mode": {
    "name": "ipython",
    "version": 3
   },
   "file_extension": ".py",
   "mimetype": "text/x-python",
   "name": "python",
   "nbconvert_exporter": "python",
   "pygments_lexer": "ipython3",
   "version": "3.6.6"
  }
 },
 "nbformat": 4,
 "nbformat_minor": 2
}
