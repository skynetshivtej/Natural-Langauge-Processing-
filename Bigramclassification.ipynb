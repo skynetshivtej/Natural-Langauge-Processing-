{
 "cells": [
  {
   "cell_type": "code",
   "execution_count": 1,
   "metadata": {},
   "outputs": [],
   "source": [
    "with open('tfidf.txt', 'r') as myfile:\n",
    "    data=myfile.read().replace('\\n', ' ')"
   ]
  },
  {
   "cell_type": "code",
   "execution_count": 2,
   "metadata": {},
   "outputs": [],
   "source": [
    "sample_text=data.lower()"
   ]
  },
  {
   "cell_type": "code",
   "execution_count": 3,
   "metadata": {},
   "outputs": [],
   "source": [
    "tokens= [word  for word in sample_text.split()]"
   ]
  },
  {
   "cell_type": "code",
   "execution_count": 4,
   "metadata": {},
   "outputs": [],
   "source": [
    "import nltk as nl "
   ]
  },
  {
   "cell_type": "code",
   "execution_count": 5,
   "metadata": {},
   "outputs": [],
   "source": [
    "tokens= nl.word_tokenize(sample_text)"
   ]
  },
  {
   "cell_type": "code",
   "execution_count": 25,
   "metadata": {},
   "outputs": [],
   "source": [
    "from nltk.tokenize import RegexpTokenizer\n",
    "tokenizer = RegexpTokenizer(r'\\w+')\n",
    "tokens=tokenizer.tokenize(sample_text)"
   ]
  },
  {
   "cell_type": "code",
   "execution_count": 26,
   "metadata": {},
   "outputs": [],
   "source": [
    "a= set(line.strip() for line in open('googlestopwords.txt'))\n",
    "from nltk.corpus import stopwords\n",
    "\n",
    "stop_words = a"
   ]
  },
  {
   "cell_type": "code",
   "execution_count": 27,
   "metadata": {},
   "outputs": [
    {
     "name": "stdout",
     "output_type": "stream",
     "text": [
      "['guys', 'jonathan', 'lambert', 'mathematics', 'development', 'support', 'service', 'national', 'college', 'ireland', 'short', 'video', 'hope', 'short', 'deal', 'derivation', 'slope', 'intercept', 'parameters', 'regression', 'line', 'fit', 'problem', 'observations', 'important', 'paired', 'observations', 'variables', 'independent', 'dependent', 'variable', 'argument', 'sake', 'independent', 'independent', 'variable', 'symbolized', 'dependent', 'variable', 'variable', 'symbolized', 'paired', 'observations', 'observations', 'variables', 'paired', 'observations', 'suppose', 'produce', 'scatter', 'plot', 'produce', 'scatter', 'plot', 'axis', 'axis', 'showing', 'quadrant', 'doesn', 'necessarily', 'quadrant', 'observations', 'associate', 'argument', 'sake', 'observation', 'observation', 'observation', 'observations', 'observations', 'observation', 'observations', 'identify', 'line', 'dataset', 'define', 'fit', 'line', 'dataset', 'fit', 'line', 'draw', 'line', 'dataset', 'lyon', 'draw', 'fit', 'line', 'dataset', 'distance', 'square', 'distance', 'observation', 'line', 'square', 'distance', 'named', 'importantly', 'sum', 'squared', 'distances', 'minimized', 'means', 'matter', 'line', 'plot', 'won', 'line', 'sum', 'squared', 'distances', 'smallest', 'assume', 'fit', 'line', 'assume', 'fit', 'regression', 'line', 'regression', 'line', 'predictive', 'line', 'hat', 'equal', 'line', 'intercept', 'form', 'values', 'equal', 'times', 'defined', 'line', 'intersects', 'axis', 'point', 'slope', 'line', 'assuming', 'concentrate', 'point', 'respect', 'line', 'redo', 'scatter', 'plot', 'concentrate', 'point', 'latent', 'axis', 'line', 'fit', 'line', 'fit', 'point', 'argument', 'sake', 'line', 'line', 'hat', 'equal', 'real', 'observation', 'point', 'real', 'observation', 'observation', 'independent', 'variable', 'symbolized', 'observation', 'variable', 'symbolized', 'real', 'fit', 'lie', 'line', 'represents', 'line', 'data', 'set', 'minimum', 'squared', 'distance', 'observations', 'line', 'predictive', 'power', 'substitute', 'independent', 'variable', 'predicted', 'substitute', 'line', 'substituted', 'line', 'line', 'predict', 'respect', 'hat', 'observation', 'talk', 'squared', 'distances', 'talking', 'distance', 'hats', 'predicted', 'squared', 'sum', 'distances', 'line', 'minimized', 'observations', 'squared', 'distances', 've', 'observation', 'values', 'rewrite', 'regression', 'line', 'sum', 'squared', 'errors', 'line', 'equal', 'equal', 'point', 'distance', 'points', 'predicted', 'square', 'point', 'hat', 'squared', 'point', 'hat', 'squared', 'hat', 'predicted', 'squared', 'hat', 'values', 'guff', 'fit', 'regression', 'assuming', 'hat', 'information', 'gave', 'progression', 'line', 'hat', 'equal', 'put', 'observation', 'substitute', 'hat', 'equal', 'put', 'force', 'observation', 'fit', 'line', 'predicted', 'substitute', 'observation', 'predicted', 'substitute', 'enth', 'observation', 'substitute', 'observation', 'ben', 'substitute', 'predicted', 'terms', 'suppose', 'reduced', 'substituting', 'predicted', 'values', 'predicted', 'values', 'line', 'assuming', 'tells', 'standard', 'error', 'start', 'standard', 'error', 'sum', 'squared', 'errors', 'line', 'equal', 'term', 'hat', 'squared', 'predicted', 'sum', 'squares', 'squared', 'squared', 'form', 'represents', 'sum', 'squares', 'don', 'terms', 'squared', 'val', 'jabrai', 'expand', 'bit', 'sum', 'squares', 'error', 'line', 'equal', 'term', 'times', 'nx', 'term', 'squared', 'times', 'true', 'term', 'times', 'yn', 'small', 'bit', 'algebra', 'step', 'step', 'don', 'multiply', 'brackets', 'sum', 'squares', 'error', 'line', 'equal', 'ignore', 'll', 'assume', 'product', 'term', 'times', 'term', 'times', 'times', 'times', 'gonna', 'cm', 'times', 'cm', 'times', 'squared', 'times', 'times', '2y', 'times', 'nx', 'finally', 'times', 'term', 'squared', 'ac', 'times', 'term', 'expanded', 'term', 'expand', 'term', 'identifier', 'change', 'point', 'subscript', 'subscript', 'stools', 'squared', 'times', 'term', 'expanded', 'tune', 'term', 'situation', 'squared', 'times', 'nx', 'times', 'term', 'don', 'earlier', 'expand', 'products', 'move', 'expand', 'products', 'sum', 'squares', 'line', 'll', 'leave', 'sum', 'squares', 'line']\n"
     ]
    }
   ],
   "source": [
    "def remove_stopwords(words):\n",
    "    filtered_words=[]\n",
    "    for word in words:\n",
    "        if word not in stop_words:\n",
    "            filtered_words.append(word)\n",
    "            \n",
    "    return filtered_words\n",
    "print(remove_stopwords(tokens))"
   ]
  },
  {
   "cell_type": "code",
   "execution_count": 28,
   "metadata": {},
   "outputs": [
    {
     "data": {
      "image/png": "[encoded data removed]",
      "text/plain": [
       "<Figure size 432x288 with 1 Axes>"
      ]
     },
     "metadata": {
      "needs_background": "light"
     },
     "output_type": "display_data"
    }
   ],
   "source": [
    "%matplotlib inline \n",
    "token_freq= nl.FreqDist(remove_stopwords(tokens))\n",
    "token_freq.plot(20, cumulative=False)"
   ]
  },
  {
   "cell_type": "code",
   "execution_count": 85,
   "metadata": {},
   "outputs": [],
   "source": [
    "bigrams=nl.bigrams(remove_stopwords(tokens))\n",
    "token_freq=nl.FreqDist(bigrams)\n",
    "result = []\n",
    "for token  in token_freq.keys():\n",
    "    result.append((token,token_freq[token]))"
   ]
  },
  {
   "cell_type": "code",
   "execution_count": 86,
   "metadata": {},
   "outputs": [],
   "source": [
    "import pandas as pd\n",
    "import numpy as np\n",
    "df = pd.DataFrame(np.array(result),columns = list(\"WS\"))"
   ]
  },
  {
   "cell_type": "code",
   "execution_count": 87,
   "metadata": {},
   "outputs": [
    {
     "data": {
      "text/html": [
       "<div>\n",
       "<style scoped>\n",
       "    .dataframe tbody tr th:only-of-type {\n",
       "        vertical-align: middle;\n",
       "    }\n",
       "\n",
       "    .dataframe tbody tr th {\n",
       "        vertical-align: top;\n",
       "    }\n",
       "\n",
       "    .dataframe thead th {\n",
       "        text-align: right;\n",
       "    }\n",
       "</style>\n",
       "<table border=\"1\" class=\"dataframe\">\n",
       "  <thead>\n",
       "    <tr style=\"text-align: right;\">\n",
       "      <th></th>\n",
       "      <th>W</th>\n",
       "      <th>S</th>\n",
       "    </tr>\n",
       "  </thead>\n",
       "  <tbody>\n",
       "    <tr>\n",
       "      <th>0</th>\n",
       "      <td>(guys, jonathan)</td>\n",
       "      <td>1</td>\n",
       "    </tr>\n",
       "    <tr>\n",
       "      <th>1</th>\n",
       "      <td>(jonathan, lambert)</td>\n",
       "      <td>1</td>\n",
       "    </tr>\n",
       "    <tr>\n",
       "      <th>2</th>\n",
       "      <td>(lambert, mathematics)</td>\n",
       "      <td>1</td>\n",
       "    </tr>\n",
       "    <tr>\n",
       "      <th>3</th>\n",
       "      <td>(mathematics, development)</td>\n",
       "      <td>1</td>\n",
       "    </tr>\n",
       "    <tr>\n",
       "      <th>4</th>\n",
       "      <td>(development, support)</td>\n",
       "      <td>1</td>\n",
       "    </tr>\n",
       "    <tr>\n",
       "      <th>5</th>\n",
       "      <td>(support, service)</td>\n",
       "      <td>1</td>\n",
       "    </tr>\n",
       "    <tr>\n",
       "      <th>6</th>\n",
       "      <td>(service, national)</td>\n",
       "      <td>1</td>\n",
       "    </tr>\n",
       "    <tr>\n",
       "      <th>7</th>\n",
       "      <td>(national, college)</td>\n",
       "      <td>1</td>\n",
       "    </tr>\n",
       "    <tr>\n",
       "      <th>8</th>\n",
       "      <td>(college, ireland)</td>\n",
       "      <td>1</td>\n",
       "    </tr>\n",
       "    <tr>\n",
       "      <th>9</th>\n",
       "      <td>(ireland, short)</td>\n",
       "      <td>1</td>\n",
       "    </tr>\n",
       "    <tr>\n",
       "      <th>10</th>\n",
       "      <td>(short, video)</td>\n",
       "      <td>1</td>\n",
       "    </tr>\n",
       "    <tr>\n",
       "      <th>11</th>\n",
       "      <td>(video, hope)</td>\n",
       "      <td>1</td>\n",
       "    </tr>\n",
       "    <tr>\n",
       "      <th>12</th>\n",
       "      <td>(hope, short)</td>\n",
       "      <td>1</td>\n",
       "    </tr>\n",
       "    <tr>\n",
       "      <th>13</th>\n",
       "      <td>(short, deal)</td>\n",
       "      <td>1</td>\n",
       "    </tr>\n",
       "    <tr>\n",
       "      <th>14</th>\n",
       "      <td>(deal, derivation)</td>\n",
       "      <td>1</td>\n",
       "    </tr>\n",
       "    <tr>\n",
       "      <th>15</th>\n",
       "      <td>(derivation, slope)</td>\n",
       "      <td>1</td>\n",
       "    </tr>\n",
       "    <tr>\n",
       "      <th>16</th>\n",
       "      <td>(slope, intercept)</td>\n",
       "      <td>1</td>\n",
       "    </tr>\n",
       "    <tr>\n",
       "      <th>17</th>\n",
       "      <td>(intercept, parameters)</td>\n",
       "      <td>1</td>\n",
       "    </tr>\n",
       "    <tr>\n",
       "      <th>18</th>\n",
       "      <td>(parameters, regression)</td>\n",
       "      <td>1</td>\n",
       "    </tr>\n",
       "    <tr>\n",
       "      <th>19</th>\n",
       "      <td>(regression, line)</td>\n",
       "      <td>4</td>\n",
       "    </tr>\n",
       "    <tr>\n",
       "      <th>20</th>\n",
       "      <td>(line, fit)</td>\n",
       "      <td>3</td>\n",
       "    </tr>\n",
       "    <tr>\n",
       "      <th>21</th>\n",
       "      <td>(fit, problem)</td>\n",
       "      <td>1</td>\n",
       "    </tr>\n",
       "    <tr>\n",
       "      <th>22</th>\n",
       "      <td>(problem, observations)</td>\n",
       "      <td>1</td>\n",
       "    </tr>\n",
       "    <tr>\n",
       "      <th>23</th>\n",
       "      <td>(observations, important)</td>\n",
       "      <td>1</td>\n",
       "    </tr>\n",
       "    <tr>\n",
       "      <th>24</th>\n",
       "      <td>(important, paired)</td>\n",
       "      <td>1</td>\n",
       "    </tr>\n",
       "    <tr>\n",
       "      <th>25</th>\n",
       "      <td>(paired, observations)</td>\n",
       "      <td>3</td>\n",
       "    </tr>\n",
       "    <tr>\n",
       "      <th>26</th>\n",
       "      <td>(observations, variables)</td>\n",
       "      <td>2</td>\n",
       "    </tr>\n",
       "    <tr>\n",
       "      <th>27</th>\n",
       "      <td>(variables, independent)</td>\n",
       "      <td>1</td>\n",
       "    </tr>\n",
       "    <tr>\n",
       "      <th>28</th>\n",
       "      <td>(independent, dependent)</td>\n",
       "      <td>1</td>\n",
       "    </tr>\n",
       "    <tr>\n",
       "      <th>29</th>\n",
       "      <td>(dependent, variable)</td>\n",
       "      <td>2</td>\n",
       "    </tr>\n",
       "    <tr>\n",
       "      <th>...</th>\n",
       "      <td>...</td>\n",
       "      <td>...</td>\n",
       "    </tr>\n",
       "    <tr>\n",
       "      <th>284</th>\n",
       "      <td>(finally, times)</td>\n",
       "      <td>1</td>\n",
       "    </tr>\n",
       "    <tr>\n",
       "      <th>285</th>\n",
       "      <td>(squared, ac)</td>\n",
       "      <td>1</td>\n",
       "    </tr>\n",
       "    <tr>\n",
       "      <th>286</th>\n",
       "      <td>(ac, times)</td>\n",
       "      <td>1</td>\n",
       "    </tr>\n",
       "    <tr>\n",
       "      <th>287</th>\n",
       "      <td>(term, expanded)</td>\n",
       "      <td>2</td>\n",
       "    </tr>\n",
       "    <tr>\n",
       "      <th>288</th>\n",
       "      <td>(expanded, term)</td>\n",
       "      <td>1</td>\n",
       "    </tr>\n",
       "    <tr>\n",
       "      <th>289</th>\n",
       "      <td>(term, expand)</td>\n",
       "      <td>1</td>\n",
       "    </tr>\n",
       "    <tr>\n",
       "      <th>290</th>\n",
       "      <td>(expand, term)</td>\n",
       "      <td>1</td>\n",
       "    </tr>\n",
       "    <tr>\n",
       "      <th>291</th>\n",
       "      <td>(term, identifier)</td>\n",
       "      <td>1</td>\n",
       "    </tr>\n",
       "    <tr>\n",
       "      <th>292</th>\n",
       "      <td>(identifier, change)</td>\n",
       "      <td>1</td>\n",
       "    </tr>\n",
       "    <tr>\n",
       "      <th>293</th>\n",
       "      <td>(change, point)</td>\n",
       "      <td>1</td>\n",
       "    </tr>\n",
       "    <tr>\n",
       "      <th>294</th>\n",
       "      <td>(point, subscript)</td>\n",
       "      <td>1</td>\n",
       "    </tr>\n",
       "    <tr>\n",
       "      <th>295</th>\n",
       "      <td>(subscript, subscript)</td>\n",
       "      <td>1</td>\n",
       "    </tr>\n",
       "    <tr>\n",
       "      <th>296</th>\n",
       "      <td>(subscript, stools)</td>\n",
       "      <td>1</td>\n",
       "    </tr>\n",
       "    <tr>\n",
       "      <th>297</th>\n",
       "      <td>(stools, squared)</td>\n",
       "      <td>1</td>\n",
       "    </tr>\n",
       "    <tr>\n",
       "      <th>298</th>\n",
       "      <td>(expanded, tune)</td>\n",
       "      <td>1</td>\n",
       "    </tr>\n",
       "    <tr>\n",
       "      <th>299</th>\n",
       "      <td>(tune, term)</td>\n",
       "      <td>1</td>\n",
       "    </tr>\n",
       "    <tr>\n",
       "      <th>300</th>\n",
       "      <td>(term, situation)</td>\n",
       "      <td>1</td>\n",
       "    </tr>\n",
       "    <tr>\n",
       "      <th>301</th>\n",
       "      <td>(situation, squared)</td>\n",
       "      <td>1</td>\n",
       "    </tr>\n",
       "    <tr>\n",
       "      <th>302</th>\n",
       "      <td>(nx, times)</td>\n",
       "      <td>1</td>\n",
       "    </tr>\n",
       "    <tr>\n",
       "      <th>303</th>\n",
       "      <td>(term, don)</td>\n",
       "      <td>1</td>\n",
       "    </tr>\n",
       "    <tr>\n",
       "      <th>304</th>\n",
       "      <td>(don, earlier)</td>\n",
       "      <td>1</td>\n",
       "    </tr>\n",
       "    <tr>\n",
       "      <th>305</th>\n",
       "      <td>(earlier, expand)</td>\n",
       "      <td>1</td>\n",
       "    </tr>\n",
       "    <tr>\n",
       "      <th>306</th>\n",
       "      <td>(expand, products)</td>\n",
       "      <td>2</td>\n",
       "    </tr>\n",
       "    <tr>\n",
       "      <th>307</th>\n",
       "      <td>(products, move)</td>\n",
       "      <td>1</td>\n",
       "    </tr>\n",
       "    <tr>\n",
       "      <th>308</th>\n",
       "      <td>(move, expand)</td>\n",
       "      <td>1</td>\n",
       "    </tr>\n",
       "    <tr>\n",
       "      <th>309</th>\n",
       "      <td>(products, sum)</td>\n",
       "      <td>1</td>\n",
       "    </tr>\n",
       "    <tr>\n",
       "      <th>310</th>\n",
       "      <td>(squares, line)</td>\n",
       "      <td>2</td>\n",
       "    </tr>\n",
       "    <tr>\n",
       "      <th>311</th>\n",
       "      <td>(line, ll)</td>\n",
       "      <td>1</td>\n",
       "    </tr>\n",
       "    <tr>\n",
       "      <th>312</th>\n",
       "      <td>(ll, leave)</td>\n",
       "      <td>1</td>\n",
       "    </tr>\n",
       "    <tr>\n",
       "      <th>313</th>\n",
       "      <td>(leave, sum)</td>\n",
       "      <td>1</td>\n",
       "    </tr>\n",
       "  </tbody>\n",
       "</table>\n",
       "<p>314 rows × 2 columns</p>\n",
       "</div>"
      ],
      "text/plain": [
       "                              W  S\n",
       "0              (guys, jonathan)  1\n",
       "1           (jonathan, lambert)  1\n",
       "2        (lambert, mathematics)  1\n",
       "3    (mathematics, development)  1\n",
       "4        (development, support)  1\n",
       "5            (support, service)  1\n",
       "6           (service, national)  1\n",
       "7           (national, college)  1\n",
       "8            (college, ireland)  1\n",
       "9              (ireland, short)  1\n",
       "10               (short, video)  1\n",
       "11                (video, hope)  1\n",
       "12                (hope, short)  1\n",
       "13                (short, deal)  1\n",
       "14           (deal, derivation)  1\n",
       "15          (derivation, slope)  1\n",
       "16           (slope, intercept)  1\n",
       "17      (intercept, parameters)  1\n",
       "18     (parameters, regression)  1\n",
       "19           (regression, line)  4\n",
       "20                  (line, fit)  3\n",
       "21               (fit, problem)  1\n",
       "22      (problem, observations)  1\n",
       "23    (observations, important)  1\n",
       "24          (important, paired)  1\n",
       "25       (paired, observations)  3\n",
       "26    (observations, variables)  2\n",
       "27     (variables, independent)  1\n",
       "28     (independent, dependent)  1\n",
       "29        (dependent, variable)  2\n",
       "..                          ... ..\n",
       "284            (finally, times)  1\n",
       "285               (squared, ac)  1\n",
       "286                 (ac, times)  1\n",
       "287            (term, expanded)  2\n",
       "288            (expanded, term)  1\n",
       "289              (term, expand)  1\n",
       "290              (expand, term)  1\n",
       "291          (term, identifier)  1\n",
       "292        (identifier, change)  1\n",
       "293             (change, point)  1\n",
       "294          (point, subscript)  1\n",
       "295      (subscript, subscript)  1\n",
       "296         (subscript, stools)  1\n",
       "297           (stools, squared)  1\n",
       "298            (expanded, tune)  1\n",
       "299                (tune, term)  1\n",
       "300           (term, situation)  1\n",
       "301        (situation, squared)  1\n",
       "302                 (nx, times)  1\n",
       "303                 (term, don)  1\n",
       "304              (don, earlier)  1\n",
       "305           (earlier, expand)  1\n",
       "306          (expand, products)  2\n",
       "307            (products, move)  1\n",
       "308              (move, expand)  1\n",
       "309             (products, sum)  1\n",
       "310             (squares, line)  2\n",
       "311                  (line, ll)  1\n",
       "312                 (ll, leave)  1\n",
       "313                (leave, sum)  1\n",
       "\n",
       "[314 rows x 2 columns]"
      ]
     },
     "execution_count": 87,
     "metadata": {},
     "output_type": "execute_result"
    }
   ],
   "source": [
    "df"
   ]
  },
  {
   "cell_type": "code",
   "execution_count": 79,
   "metadata": {},
   "outputs": [],
   "source": [
    "df=df.replace('\\)','',regex=True).astype(str)"
   ]
  },
  {
   "cell_type": "code",
   "execution_count": 88,
   "metadata": {},
   "outputs": [],
   "source": [
    "df['S']=df['S'].astype(str).astype(int)"
   ]
  },
  {
   "cell_type": "code",
   "execution_count": 98,
   "metadata": {},
   "outputs": [],
   "source": [
    "np.savetxt(\"Labled11.csv\", (df[df.S>1]), delimiter=\",,\", fmt='%s')"
   ]
  },
  {
   "cell_type": "code",
   "execution_count": 226,
   "metadata": {},
   "outputs": [],
   "source": [
    "rakecsv = pd.read_csv(\"Labled1.csv\")"
   ]
  },
  {
   "cell_type": "code",
   "execution_count": 227,
   "metadata": {},
   "outputs": [
    {
     "data": {
      "text/html": [
       "<div>\n",
       "<style scoped>\n",
       "    .dataframe tbody tr th:only-of-type {\n",
       "        vertical-align: middle;\n",
       "    }\n",
       "\n",
       "    .dataframe tbody tr th {\n",
       "        vertical-align: top;\n",
       "    }\n",
       "\n",
       "    .dataframe thead th {\n",
       "        text-align: right;\n",
       "    }\n",
       "</style>\n",
       "<table border=\"1\" class=\"dataframe\">\n",
       "  <thead>\n",
       "    <tr style=\"text-align: right;\">\n",
       "      <th></th>\n",
       "      <th>Word1</th>\n",
       "      <th>Word2</th>\n",
       "      <th>Score</th>\n",
       "      <th>Lab</th>\n",
       "    </tr>\n",
       "  </thead>\n",
       "  <tbody>\n",
       "    <tr>\n",
       "      <th>0</th>\n",
       "      <td>('hi'</td>\n",
       "      <td>'guys')</td>\n",
       "      <td>1</td>\n",
       "      <td>0</td>\n",
       "    </tr>\n",
       "    <tr>\n",
       "      <th>1</th>\n",
       "      <td>('guys'</td>\n",
       "      <td>'jonathan')</td>\n",
       "      <td>1</td>\n",
       "      <td>0</td>\n",
       "    </tr>\n",
       "    <tr>\n",
       "      <th>2</th>\n",
       "      <td>('jonathan'</td>\n",
       "      <td>'lambert')</td>\n",
       "      <td>1</td>\n",
       "      <td>0</td>\n",
       "    </tr>\n",
       "    <tr>\n",
       "      <th>3</th>\n",
       "      <td>('lambert'</td>\n",
       "      <td>'mathematics')</td>\n",
       "      <td>1</td>\n",
       "      <td>0</td>\n",
       "    </tr>\n",
       "    <tr>\n",
       "      <th>4</th>\n",
       "      <td>('mathematics'</td>\n",
       "      <td>'development')</td>\n",
       "      <td>1</td>\n",
       "      <td>0</td>\n",
       "    </tr>\n",
       "  </tbody>\n",
       "</table>\n",
       "</div>"
      ],
      "text/plain": [
       "            Word1            Word2  Score  Lab\n",
       "0           ('hi'          'guys')      1    0\n",
       "1         ('guys'      'jonathan')      1    0\n",
       "2     ('jonathan'       'lambert')      1    0\n",
       "3      ('lambert'   'mathematics')      1    0\n",
       "4  ('mathematics'   'development')      1    0"
      ]
     },
     "execution_count": 227,
     "metadata": {},
     "output_type": "execute_result"
    }
   ],
   "source": [
    "rakecsv.head()\n"
   ]
  },
  {
   "cell_type": "code",
   "execution_count": 228,
   "metadata": {},
   "outputs": [],
   "source": [
    "X = rakecsv[col_name]\n",
    "col_name=['Score']"
   ]
  },
  {
   "cell_type": "code",
   "execution_count": 229,
   "metadata": {},
   "outputs": [],
   "source": [
    "Y= rakecsv['Lab']"
   ]
  },
  {
   "cell_type": "code",
   "execution_count": 230,
   "metadata": {},
   "outputs": [],
   "source": [
    "from sklearn.model_selection import train_test_split"
   ]
  },
  {
   "cell_type": "code",
   "execution_count": 231,
   "metadata": {},
   "outputs": [],
   "source": [
    "X_train,X_test,y_train,y_test=train_test_split(X,Y,test_size=0.25,random_state=0)"
   ]
  },
  {
   "cell_type": "code",
   "execution_count": 232,
   "metadata": {},
   "outputs": [],
   "source": [
    "from sklearn.linear_model import LogisticRegression"
   ]
  },
  {
   "cell_type": "code",
   "execution_count": 237,
   "metadata": {},
   "outputs": [],
   "source": [
    "logreg = LogisticRegression(random_state=0, solver='lbfgs',multi_class='multinomial',class_weight='balanced')"
   ]
  },
  {
   "cell_type": "code",
   "execution_count": 238,
   "metadata": {},
   "outputs": [
    {
     "data": {
      "text/plain": [
       "LogisticRegression(C=1.0, class_weight='balanced', dual=False,\n",
       "          fit_intercept=True, intercept_scaling=1, max_iter=100,\n",
       "          multi_class='multinomial', n_jobs=None, penalty='l2',\n",
       "          random_state=0, solver='lbfgs', tol=0.0001, verbose=0,\n",
       "          warm_start=False)"
      ]
     },
     "execution_count": 238,
     "metadata": {},
     "output_type": "execute_result"
    }
   ],
   "source": [
    "logreg.fit(X_train,y_train)"
   ]
  },
  {
   "cell_type": "code",
   "execution_count": 239,
   "metadata": {},
   "outputs": [],
   "source": [
    "y_pred=logreg.predict(X_test)"
   ]
  },
  {
   "cell_type": "code",
   "execution_count": 240,
   "metadata": {},
   "outputs": [
    {
     "data": {
      "text/plain": [
       "array([[125,  22],\n",
       "       [  6,   2]], dtype=int64)"
      ]
     },
     "execution_count": 240,
     "metadata": {},
     "output_type": "execute_result"
    }
   ],
   "source": [
    "from sklearn import metrics\n",
    "cnf_matrix = metrics.confusion_matrix(y_test, y_pred)\n",
    "cnf_matrix"
   ]
  },
  {
   "cell_type": "code",
   "execution_count": 241,
   "metadata": {},
   "outputs": [],
   "source": [
    "import numpy as np\n",
    "import matplotlib.pyplot as plt\n",
    "import seaborn as sns\n",
    "%matplotlib inline"
   ]
  },
  {
   "cell_type": "code",
   "execution_count": 242,
   "metadata": {},
   "outputs": [
    {
     "data": {
      "text/plain": [
       "Text(0.5, 257.44, 'Predicted label')"
      ]
     },
     "execution_count": 242,
     "metadata": {},
     "output_type": "execute_result"
    },
    {
     "data": {
      "image/png": "[encoded data removed]",
      "text/plain": [
       "<Figure size 432x288 with 2 Axes>"
      ]
     },
     "metadata": {
      "needs_background": "light"
     },
     "output_type": "display_data"
    }
   ],
   "source": [
    "class_names=[0,1] # name  of classes\n",
    "fig, ax = plt.subplots()\n",
    "tick_marks = np.arange(len(class_names))\n",
    "plt.xticks(tick_marks, class_names)\n",
    "plt.yticks(tick_marks, class_names)\n",
    "# create heatmap\n",
    "sns.heatmap(pd.DataFrame(cnf_matrix), annot=True, cmap=\"YlGnBu\" ,fmt='g')\n",
    "ax.xaxis.set_label_position(\"top\")\n",
    "plt.tight_layout()\n",
    "plt.title('Confusion matrix', y=1.1)\n",
    "plt.ylabel('Actual label')\n",
    "plt.xlabel('Predicted label')"
   ]
  },
  {
   "cell_type": "code",
   "execution_count": 243,
   "metadata": {},
   "outputs": [
    {
     "name": "stdout",
     "output_type": "stream",
     "text": [
      "Accuracy: 0.8193548387096774\n",
      "Precision: 0.08333333333333333\n",
      "Recall: 0.25\n"
     ]
    }
   ],
   "source": [
    "print(\"Accuracy:\",metrics.accuracy_score(y_test, y_pred))\n",
    "print(\"Precision:\",metrics.precision_score(y_test, y_pred))\n",
    "print(\"Recall:\",metrics.recall_score(y_test, y_pred))"
   ]
  }
 ],
 "metadata": {
  "kernelspec": {
   "display_name": "Python 3",
   "language": "python",
   "name": "python3"
  },
  "language_info": {
   "codemirror_mode": {
    "name": "ipython",
    "version": 3
   },
   "file_extension": ".py",
   "mimetype": "text/x-python",
   "name": "python",
   "nbconvert_exporter": "python",
   "pygments_lexer": "ipython3",
   "version": "3.6.6"
  }
 },
 "nbformat": 4,
 "nbformat_minor": 2
}
